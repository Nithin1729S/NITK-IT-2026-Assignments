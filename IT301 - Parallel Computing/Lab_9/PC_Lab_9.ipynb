{
  "nbformat": 4,
  "nbformat_minor": 0,
  "metadata": {
    "colab": {
      "provenance": []
    },
    "kernelspec": {
      "name": "python3",
      "display_name": "Python 3"
    },
    "language_info": {
      "name": "python"
    }
  },
  "cells": [
    {
      "cell_type": "code",
      "execution_count": null,
      "metadata": {
        "colab": {
          "base_uri": "https://localhost:8080/"
        },
        "id": "TuKt_RwCmeyP",
        "outputId": "c8133d7f-9036-45b6-da35-11d4ccfb964e"
      },
      "outputs": [
        {
          "output_type": "stream",
          "name": "stdout",
          "text": [
            "nvcc: NVIDIA (R) Cuda compiler driver\n",
            "Copyright (c) 2005-2023 NVIDIA Corporation\n",
            "Built on Tue_Aug_15_22:02:13_PDT_2023\n",
            "Cuda compilation tools, release 12.2, V12.2.140\n",
            "Build cuda_12.2.r12.2/compiler.33191640_0\n"
          ]
        }
      ],
      "source": [
        "!nvcc --version"
      ]
    },
    {
      "cell_type": "code",
      "source": [
        "!pip install nvcc4jupyter"
      ],
      "metadata": {
        "colab": {
          "base_uri": "https://localhost:8080/"
        },
        "id": "OyZis-vcnR6M",
        "outputId": "2a8d24eb-32e8-438d-a59f-c8c1648295e0"
      },
      "execution_count": null,
      "outputs": [
        {
          "output_type": "stream",
          "name": "stdout",
          "text": [
            "Collecting nvcc4jupyter\n",
            "  Downloading nvcc4jupyter-1.2.1-py3-none-any.whl.metadata (5.1 kB)\n",
            "Downloading nvcc4jupyter-1.2.1-py3-none-any.whl (10 kB)\n",
            "Installing collected packages: nvcc4jupyter\n",
            "Successfully installed nvcc4jupyter-1.2.1\n"
          ]
        }
      ]
    },
    {
      "cell_type": "code",
      "source": [
        "%load_ext nvcc4jupyter"
      ],
      "metadata": {
        "colab": {
          "base_uri": "https://localhost:8080/"
        },
        "id": "o6wNM9rOnTnq",
        "outputId": "1001b3dc-cf96-40aa-f5a3-882a2f896a69"
      },
      "execution_count": null,
      "outputs": [
        {
          "output_type": "stream",
          "name": "stdout",
          "text": [
            "Detected platform \"Colab\". Running its setup...\n",
            "Source files will be saved in \"/tmp/tmpbe0x50b9\".\n"
          ]
        }
      ]
    },
    {
      "cell_type": "code",
      "source": [
        "%%cuda\n",
        "#include <stdio.h>\n",
        "#include <stdlib.h>\n",
        "#include <math.h>\n",
        "__global__ void SingleLoop()\n",
        "{\n",
        "\n",
        "int idx = blockIdx.x*blockDim.x+threadIdx.x;\n",
        "int idy = blockIdx.y*blockDim.y+threadIdx.y;\n",
        "int idz = blockIdx.z*blockDim.z+threadIdx.z;\n",
        "int id = idx + idy *blockDim.x+idz*blockDim.x*blockDim.y;\n",
        "printf(\"GPU-i=%d Tx=%d Ty=%d Tz=%d Bx=%d By=%d Bz=%d\\n\",id,threadIdx.x,threadIdx.y, threadIdx.z, blockIdx.x,blockIdx.y, blockIdx.z);\n",
        "}\n",
        "\n",
        "int main(int argc, char **argv)\n",
        "{\n",
        "for(int i=0;i<32;i++){\n",
        "printf(\"CPU-i=%d\\n\",i);\n",
        "}\n",
        "dim3 grid(1,1,1);\n",
        "dim3 block(4,4,2);\n",
        "printf(\"...................\\n\");\n",
        "SingleLoop <<<grid, block>>>();\n",
        "cudaDeviceSynchronize();\n",
        "return 0;\n",
        "}"
      ],
      "metadata": {
        "colab": {
          "base_uri": "https://localhost:8080/"
        },
        "id": "yVr3jcCTnWkw",
        "outputId": "06c959d1-6dac-437b-c498-60b30efcdb48"
      },
      "execution_count": null,
      "outputs": [
        {
          "output_type": "stream",
          "name": "stdout",
          "text": [
            "CPU-i=0\n",
            "CPU-i=1\n",
            "CPU-i=2\n",
            "CPU-i=3\n",
            "CPU-i=4\n",
            "CPU-i=5\n",
            "CPU-i=6\n",
            "CPU-i=7\n",
            "CPU-i=8\n",
            "CPU-i=9\n",
            "CPU-i=10\n",
            "CPU-i=11\n",
            "CPU-i=12\n",
            "CPU-i=13\n",
            "CPU-i=14\n",
            "CPU-i=15\n",
            "CPU-i=16\n",
            "CPU-i=17\n",
            "CPU-i=18\n",
            "CPU-i=19\n",
            "CPU-i=20\n",
            "CPU-i=21\n",
            "CPU-i=22\n",
            "CPU-i=23\n",
            "CPU-i=24\n",
            "CPU-i=25\n",
            "CPU-i=26\n",
            "CPU-i=27\n",
            "CPU-i=28\n",
            "CPU-i=29\n",
            "CPU-i=30\n",
            "CPU-i=31\n",
            "...................\n",
            "\n"
          ]
        }
      ]
    },
    {
      "cell_type": "code",
      "source": [
        "%%cuda\n",
        "#include <stdio.h>\n",
        "#include <stdlib.h>\n",
        "#include <math.h>\n",
        "__global__ void SingleLoop()\n",
        "{\n",
        "\n",
        "int idx = blockIdx.x*blockDim.x+threadIdx.x;\n",
        "int idy = blockIdx.y*blockDim.y+threadIdx.y;\n",
        "int idz = blockIdx.z*blockDim.z+threadIdx.z;\n",
        "int id = idx + idy *blockDim.x+idz*blockDim.x*blockDim.y;\n",
        "printf(\"GPU-i=%d Tx=%d Ty=%d Tz=%d Bx=%d By=%d Bz=%d\\n\",id,threadIdx.x,threadIdx.y, threadIdx.z, blockIdx.x,blockIdx.y, blockIdx.z);\n",
        "}\n",
        "\n",
        "int main(int argc, char **argv)\n",
        "{\n",
        "for(int i=0;i<32;i++){\n",
        "printf(\"CPU-i=%d\\n\",i);\n",
        "}\n",
        "dim3 grid(1,1,1);\n",
        "dim3 block(32,1,1);\n",
        "printf(\"...................\\n\");\n",
        "SingleLoop <<<grid, block>>>();\n",
        "cudaDeviceSynchronize();\n",
        "return 0;\n",
        "}"
      ],
      "metadata": {
        "colab": {
          "base_uri": "https://localhost:8080/"
        },
        "id": "MQwSKLpdniUu",
        "outputId": "8752163d-2b13-4c31-ab99-c3b988cb4431"
      },
      "execution_count": null,
      "outputs": [
        {
          "output_type": "stream",
          "name": "stdout",
          "text": [
            "CPU-i=0\n",
            "CPU-i=1\n",
            "CPU-i=2\n",
            "CPU-i=3\n",
            "CPU-i=4\n",
            "CPU-i=5\n",
            "CPU-i=6\n",
            "CPU-i=7\n",
            "CPU-i=8\n",
            "CPU-i=9\n",
            "CPU-i=10\n",
            "CPU-i=11\n",
            "CPU-i=12\n",
            "CPU-i=13\n",
            "CPU-i=14\n",
            "CPU-i=15\n",
            "CPU-i=16\n",
            "CPU-i=17\n",
            "CPU-i=18\n",
            "CPU-i=19\n",
            "CPU-i=20\n",
            "CPU-i=21\n",
            "CPU-i=22\n",
            "CPU-i=23\n",
            "CPU-i=24\n",
            "CPU-i=25\n",
            "CPU-i=26\n",
            "CPU-i=27\n",
            "CPU-i=28\n",
            "CPU-i=29\n",
            "CPU-i=30\n",
            "CPU-i=31\n",
            "...................\n",
            "\n"
          ]
        }
      ]
    },
    {
      "cell_type": "code",
      "source": [
        "%%cuda\n",
        "#include <stdio.h>\n",
        "#include <stdlib.h>\n",
        "#include <math.h>\n",
        "__global__ void SingleLoop()\n",
        "{\n",
        "\n",
        "int idx = blockIdx.x*blockDim.x+threadIdx.x;\n",
        "int idy = blockIdx.y*blockDim.y+threadIdx.y;\n",
        "int idz = blockIdx.z*blockDim.z+threadIdx.z;\n",
        "int id = idx + idy *blockDim.x+idz*blockDim.x*blockDim.y;\n",
        "printf(\"GPU-i=%d Tx=%d Ty=%d Tz=%d Bx=%d By=%d Bz=%d\\n\",id,threadIdx.x,threadIdx.y, threadIdx.z, blockIdx.x,blockIdx.y, blockIdx.z);\n",
        "}\n",
        "\n",
        "int main(int argc, char **argv)\n",
        "{\n",
        "for(int i=0;i<32;i++){\n",
        "printf(\"CPU-i=%d\\n\",i);\n",
        "}\n",
        "dim3 grid(1,1,1);\n",
        "dim3 block(16,2,1);\n",
        "printf(\"...................\\n\");\n",
        "SingleLoop <<<grid, block>>>();\n",
        "cudaDeviceSynchronize();\n",
        "return 0;\n",
        "}"
      ],
      "metadata": {
        "colab": {
          "base_uri": "https://localhost:8080/"
        },
        "id": "XrJlQbfwqkDn",
        "outputId": "cae7d7d9-c6cb-43c3-9568-9dec8a6e4693"
      },
      "execution_count": null,
      "outputs": [
        {
          "output_type": "stream",
          "name": "stdout",
          "text": [
            "CPU-i=0\n",
            "CPU-i=1\n",
            "CPU-i=2\n",
            "CPU-i=3\n",
            "CPU-i=4\n",
            "CPU-i=5\n",
            "CPU-i=6\n",
            "CPU-i=7\n",
            "CPU-i=8\n",
            "CPU-i=9\n",
            "CPU-i=10\n",
            "CPU-i=11\n",
            "CPU-i=12\n",
            "CPU-i=13\n",
            "CPU-i=14\n",
            "CPU-i=15\n",
            "CPU-i=16\n",
            "CPU-i=17\n",
            "CPU-i=18\n",
            "CPU-i=19\n",
            "CPU-i=20\n",
            "CPU-i=21\n",
            "CPU-i=22\n",
            "CPU-i=23\n",
            "CPU-i=24\n",
            "CPU-i=25\n",
            "CPU-i=26\n",
            "CPU-i=27\n",
            "CPU-i=28\n",
            "CPU-i=29\n",
            "CPU-i=30\n",
            "CPU-i=31\n",
            "...................\n",
            "\n"
          ]
        }
      ]
    },
    {
      "cell_type": "code",
      "source": [
        "%%cuda\n",
        "#include <stdio.h>\n",
        "#include <stdlib.h>\n",
        "#include <math.h>\n",
        "__global__ void SingleLoop()\n",
        "{\n",
        "\n",
        "int idx = blockIdx.x*blockDim.x+threadIdx.x;\n",
        "int idy = blockIdx.y*blockDim.y+threadIdx.y;\n",
        "int idz = blockIdx.z*blockDim.z+threadIdx.z;\n",
        "int id = idx + idy *blockDim.x+idz*blockDim.x*blockDim.y;\n",
        "printf(\"GPU-i=%d Tx=%d Ty=%d Tz=%d Bx=%d By=%d Bz=%d\\n\",id,threadIdx.x,threadIdx.y, threadIdx.z, blockIdx.x,blockIdx.y, blockIdx.z);\n",
        "}\n",
        "\n",
        "int main(int argc, char **argv)\n",
        "{\n",
        "for(int i=0;i<32;i++){\n",
        "printf(\"CPU-i=%d\\n\",i);\n",
        "}\n",
        "dim3 grid(1,1,1);\n",
        "dim3 block(4,2,4);\n",
        "printf(\"...................\\n\");\n",
        "SingleLoop <<<grid, block>>>();\n",
        "cudaDeviceSynchronize();\n",
        "return 0;\n",
        "}"
      ],
      "metadata": {
        "colab": {
          "base_uri": "https://localhost:8080/"
        },
        "id": "_rlYBkYwqoSY",
        "outputId": "6ca5c904-4b60-40f5-bf30-6a08a1489177"
      },
      "execution_count": null,
      "outputs": [
        {
          "output_type": "stream",
          "name": "stdout",
          "text": [
            "CPU-i=0\n",
            "CPU-i=1\n",
            "CPU-i=2\n",
            "CPU-i=3\n",
            "CPU-i=4\n",
            "CPU-i=5\n",
            "CPU-i=6\n",
            "CPU-i=7\n",
            "CPU-i=8\n",
            "CPU-i=9\n",
            "CPU-i=10\n",
            "CPU-i=11\n",
            "CPU-i=12\n",
            "CPU-i=13\n",
            "CPU-i=14\n",
            "CPU-i=15\n",
            "CPU-i=16\n",
            "CPU-i=17\n",
            "CPU-i=18\n",
            "CPU-i=19\n",
            "CPU-i=20\n",
            "CPU-i=21\n",
            "CPU-i=22\n",
            "CPU-i=23\n",
            "CPU-i=24\n",
            "CPU-i=25\n",
            "CPU-i=26\n",
            "CPU-i=27\n",
            "CPU-i=28\n",
            "CPU-i=29\n",
            "CPU-i=30\n",
            "CPU-i=31\n",
            "...................\n",
            "\n"
          ]
        }
      ]
    },
    {
      "cell_type": "code",
      "source": [
        "%%cuda\n",
        "#include <stdio.h>\n",
        "#include <stdlib.h>\n",
        "#include <math.h>\n",
        "__global__ void SingleLoop()\n",
        "{\n",
        "\n",
        "int idx = blockIdx.x*blockDim.x+threadIdx.x;\n",
        "int idy = blockIdx.y*blockDim.y+threadIdx.y;\n",
        "int idz = blockIdx.z*blockDim.z+threadIdx.z;\n",
        "int id = idx + idy *blockDim.x+idz*blockDim.x*blockDim.y;\n",
        "printf(\"GPU-i=%d Tx=%d Ty=%d Tz=%d Bx=%d By=%d Bz=%d\\n\",id,threadIdx.x,threadIdx.y, threadIdx.z, blockIdx.x,blockIdx.y, blockIdx.z);\n",
        "}\n",
        "\n",
        "int main(int argc, char **argv)\n",
        "{\n",
        "for(int i=0;i<32;i++){\n",
        "printf(\"CPU-i=%d\\n\",i);\n",
        "}\n",
        "dim3 grid(1,1,1);\n",
        "dim3 block(8,4,1);\n",
        "printf(\"...................\\n\");\n",
        "SingleLoop <<<grid, block>>>();\n",
        "cudaDeviceSynchronize();\n",
        "return 0;\n",
        "}"
      ],
      "metadata": {
        "colab": {
          "base_uri": "https://localhost:8080/"
        },
        "id": "Lm3v_E8XqrrB",
        "outputId": "fa82cc94-6a94-448e-98e7-ab7be592141e"
      },
      "execution_count": null,
      "outputs": [
        {
          "output_type": "stream",
          "name": "stdout",
          "text": [
            "CPU-i=0\n",
            "CPU-i=1\n",
            "CPU-i=2\n",
            "CPU-i=3\n",
            "CPU-i=4\n",
            "CPU-i=5\n",
            "CPU-i=6\n",
            "CPU-i=7\n",
            "CPU-i=8\n",
            "CPU-i=9\n",
            "CPU-i=10\n",
            "CPU-i=11\n",
            "CPU-i=12\n",
            "CPU-i=13\n",
            "CPU-i=14\n",
            "CPU-i=15\n",
            "CPU-i=16\n",
            "CPU-i=17\n",
            "CPU-i=18\n",
            "CPU-i=19\n",
            "CPU-i=20\n",
            "CPU-i=21\n",
            "CPU-i=22\n",
            "CPU-i=23\n",
            "CPU-i=24\n",
            "CPU-i=25\n",
            "CPU-i=26\n",
            "CPU-i=27\n",
            "CPU-i=28\n",
            "CPU-i=29\n",
            "CPU-i=30\n",
            "CPU-i=31\n",
            "...................\n",
            "\n"
          ]
        }
      ]
    },
    {
      "cell_type": "code",
      "source": [
        "%%cuda\n",
        "#include <stdio.h>\n",
        "#include <stdlib.h>\n",
        "#include <math.h>\n",
        "__global__ void SingleLoop()\n",
        "{\n",
        "\n",
        "int idx = blockIdx.x*blockDim.x+threadIdx.x;\n",
        "int idy = blockIdx.y*blockDim.y+threadIdx.y;\n",
        "int idz = blockIdx.z*blockDim.z+threadIdx.z;\n",
        "int id = idx + idy *blockDim.x+idz*blockDim.x*blockDim.y;\n",
        "printf(\"GPU-i=%d Tx=%d Ty=%d Tz=%d Bx=%d By=%d Bz=%d\\n\",id,threadIdx.x,threadIdx.y, threadIdx.z, blockIdx.x,blockIdx.y, blockIdx.z);\n",
        "}\n",
        "\n",
        "int main(int argc, char **argv)\n",
        "{\n",
        "for(int i=0;i<32;i++){\n",
        "printf(\"CPU-i=%d\\n\",i);\n",
        "}\n",
        "dim3 grid(1,1,1);\n",
        "dim3 block(2,8,2);\n",
        "printf(\"...................\\n\");\n",
        "SingleLoop <<<grid, block>>>();\n",
        "cudaDeviceSynchronize();\n",
        "return 0;\n",
        "}"
      ],
      "metadata": {
        "colab": {
          "base_uri": "https://localhost:8080/"
        },
        "id": "BYBUKXCXqwNj",
        "outputId": "e7ac5ddc-2c03-4cbb-8a4b-14ab38f7dde2"
      },
      "execution_count": null,
      "outputs": [
        {
          "output_type": "stream",
          "name": "stdout",
          "text": [
            "CPU-i=0\n",
            "CPU-i=1\n",
            "CPU-i=2\n",
            "CPU-i=3\n",
            "CPU-i=4\n",
            "CPU-i=5\n",
            "CPU-i=6\n",
            "CPU-i=7\n",
            "CPU-i=8\n",
            "CPU-i=9\n",
            "CPU-i=10\n",
            "CPU-i=11\n",
            "CPU-i=12\n",
            "CPU-i=13\n",
            "CPU-i=14\n",
            "CPU-i=15\n",
            "CPU-i=16\n",
            "CPU-i=17\n",
            "CPU-i=18\n",
            "CPU-i=19\n",
            "CPU-i=20\n",
            "CPU-i=21\n",
            "CPU-i=22\n",
            "CPU-i=23\n",
            "CPU-i=24\n",
            "CPU-i=25\n",
            "CPU-i=26\n",
            "CPU-i=27\n",
            "CPU-i=28\n",
            "CPU-i=29\n",
            "CPU-i=30\n",
            "CPU-i=31\n",
            "...................\n",
            "\n"
          ]
        }
      ]
    },
    {
      "cell_type": "code",
      "source": [],
      "metadata": {
        "id": "APR0SsLjq0t3"
      },
      "execution_count": null,
      "outputs": []
    }
  ]
}
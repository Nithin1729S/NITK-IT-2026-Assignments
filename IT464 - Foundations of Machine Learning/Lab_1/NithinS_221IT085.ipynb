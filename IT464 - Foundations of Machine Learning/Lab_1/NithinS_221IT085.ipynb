{
 "cells": [
  {
   "cell_type": "markdown",
   "id": "aba3fbac-b266-4e63-afb4-7fafbabaaa8b",
   "metadata": {},
   "source": [
    "# Question 1"
   ]
  },
  {
   "cell_type": "code",
   "execution_count": 172,
   "id": "86d26e86-ed53-4103-9971-504869dea2ca",
   "metadata": {},
   "outputs": [
    {
     "name": "stdout",
     "output_type": "stream",
     "text": [
      "[[75 93 99 63]\n",
      " [84 56 78 42]\n",
      " [ 6 72 84 64]\n",
      " [48 33 60 87]]\n"
     ]
    }
   ],
   "source": [
    "import numpy as np\n",
    "def generate_random_matrix(n, low=0, high=100):\n",
    "    return np.random.randint(low, high, size=(n, n))\n",
    "\n",
    "n = 4 \n",
    "matrix = generate_random_matrix(n)\n",
    "print(matrix)\n"
   ]
  },
  {
   "cell_type": "code",
   "execution_count": 173,
   "id": "997a6f82-f5d0-48f5-9c27-1970bbce80ba",
   "metadata": {},
   "outputs": [
    {
     "data": {
      "text/plain": [
       "array([[75, 84,  6, 48],\n",
       "       [93, 56, 72, 33],\n",
       "       [99, 78, 84, 60],\n",
       "       [63, 42, 64, 87]])"
      ]
     },
     "execution_count": 173,
     "metadata": {},
     "output_type": "execute_result"
    }
   ],
   "source": [
    "matrix.T"
   ]
  },
  {
   "cell_type": "code",
   "execution_count": 174,
   "id": "9897aac8-1c98-4022-b06f-c320093a5c6a",
   "metadata": {},
   "outputs": [
    {
     "data": {
      "text/plain": [
       "array([[ 0.01057316,  0.00147231, -0.01654584,  0.00380445],\n",
       "       [ 0.05496434, -0.04600385, -0.02000872, -0.00287395],\n",
       "       [-0.05803068,  0.05615986,  0.03687552, -0.01221626],\n",
       "       [ 0.01333914, -0.02209351, -0.00871314,  0.01891037]])"
      ]
     },
     "execution_count": 174,
     "metadata": {},
     "output_type": "execute_result"
    }
   ],
   "source": [
    "np.linalg.inv(matrix)"
   ]
  },
  {
   "cell_type": "code",
   "execution_count": 175,
   "id": "c31806dc-7480-4b11-b1c3-f8f58f914e08",
   "metadata": {},
   "outputs": [
    {
     "data": {
      "text/plain": [
       "302"
      ]
     },
     "execution_count": 175,
     "metadata": {},
     "output_type": "execute_result"
    }
   ],
   "source": [
    "int(np.trace(matrix))"
   ]
  },
  {
   "cell_type": "code",
   "execution_count": 176,
   "id": "bf677066-cd33-40cc-8825-1b0738033ab5",
   "metadata": {},
   "outputs": [],
   "source": [
    "eigen_values,eigen_vectors=np.linalg.eig(matrix)"
   ]
  },
  {
   "cell_type": "code",
   "execution_count": 177,
   "id": "f2123310-8f1d-4c33-abde-8c3a4f53adfb",
   "metadata": {},
   "outputs": [
    {
     "name": "stdout",
     "output_type": "stream",
     "text": [
      "[254.77761222 -21.73004059  25.28505106  43.66737732]\n"
     ]
    }
   ],
   "source": [
    "print(eigen_values)"
   ]
  },
  {
   "cell_type": "code",
   "execution_count": 178,
   "id": "bb20c168-ddc9-4ae2-97be-a6f4099ce7ba",
   "metadata": {},
   "outputs": [
    {
     "name": "stdout",
     "output_type": "stream",
     "text": [
      "[[-0.6323862  -0.21242012 -0.46342224 -0.53958833]\n",
      " [-0.51261618  0.7312642  -0.46795235 -0.57766986]\n",
      " [-0.39714946 -0.61314973  0.74401777  0.44691069]\n",
      " [-0.42377429  0.21018507 -0.11268535  0.41882312]]\n"
     ]
    }
   ],
   "source": [
    "print(eigen_vectors)"
   ]
  },
  {
   "cell_type": "markdown",
   "id": "778c5242-8cd8-405c-a49f-e3170a9c6b0c",
   "metadata": {},
   "source": [
    "# Question 2"
   ]
  },
  {
   "cell_type": "code",
   "execution_count": 214,
   "id": "84fff9de-9964-4f79-9401-ed470960d678",
   "metadata": {},
   "outputs": [
    {
     "name": "stdout",
     "output_type": "stream",
     "text": [
      "Vector Algebra Laws Verification Table\n",
      "==================================================\n",
      "\n",
      "Vector Addition:\n",
      "--------------------------------------------------\n",
      "Law                            | Result    \n",
      "--------------------------------------------------\n",
      "a + b = b + a                  | ✓         \n",
      "(a + b) + c = a + (b + c)      | ✓         \n",
      "\n",
      "Vector Subtraction:\n",
      "--------------------------------------------------\n",
      "Law                            | Result    \n",
      "--------------------------------------------------\n",
      "a - b ≠ b - a                  | ✓         \n",
      "\n",
      "Scalar-Vector Multiplication:\n",
      "--------------------------------------------------\n",
      "Law                            | Result    \n",
      "--------------------------------------------------\n",
      "k(a + b) = ka + kb             | ✓         \n",
      "\n",
      "Inner Product:\n",
      "--------------------------------------------------\n",
      "Law                            | Result    \n",
      "--------------------------------------------------\n",
      "a·b = b·a                      | ✓         \n",
      "a·(b + c) = a·b + a·c          | ✓         \n"
     ]
    },
    {
     "data": {
      "text/plain": [
       "{'Vector Addition': {'Commutative': {'Law': 'a + b = b + a',\n",
       "   'Left Side': array([5, 7, 9]),\n",
       "   'Right Side': array([5, 7, 9]),\n",
       "   'Result': True},\n",
       "  'Associative': {'Law': '(a + b) + c = a + (b + c)',\n",
       "   'Left Side': array([12, 15, 18]),\n",
       "   'Right Side': array([12, 15, 18]),\n",
       "   'Result': True}},\n",
       " 'Vector Subtraction': {'Non-Commutative': {'Law': 'a - b ≠ b - a',\n",
       "   'Left Side': array([-3, -3, -3]),\n",
       "   'Right Side': array([3, 3, 3]),\n",
       "   'Result': True}},\n",
       " 'Scalar-Vector Multiplication': {'Distributive': {'Law': 'k(a + b) = ka + kb',\n",
       "   'Left Side': array([10, 14, 18]),\n",
       "   'Right Side': array([10, 14, 18]),\n",
       "   'Result': True}},\n",
       " 'Inner Product': {'Commutative': {'Law': 'a·b = b·a',\n",
       "   'Left Side': np.int64(32),\n",
       "   'Right Side': np.int64(32),\n",
       "   'Result': np.True_},\n",
       "  'Distributive': {'Law': 'a·(b + c) = a·b + a·c',\n",
       "   'Left Side': np.int64(82),\n",
       "   'Right Side': np.int64(82),\n",
       "   'Result': np.True_}}}"
      ]
     },
     "execution_count": 214,
     "metadata": {},
     "output_type": "execute_result"
    }
   ],
   "source": [
    "import numpy as np\n",
    "\n",
    "def test_vector_laws():\n",
    "    # Test vectors\n",
    "    a = np.array([1, 2, 3])\n",
    "    b = np.array([4, 5, 6])\n",
    "    c = np.array([7, 8, 9])\n",
    "    k = 2  # scalar\n",
    "\n",
    "    # Results dictionary to store all test results\n",
    "    results = {\n",
    "        \"Vector Addition\": {},\n",
    "        \"Vector Subtraction\": {},\n",
    "        \"Scalar-Vector Multiplication\": {},\n",
    "        \"Inner Product\": {}\n",
    "    }\n",
    "    \n",
    "    # 1. Vector Addition Tests\n",
    "    # Commutative: a + b = b + a\n",
    "    results[\"Vector Addition\"][\"Commutative\"] = {\n",
    "        \"Law\": \"a + b = b + a\",\n",
    "        \"Left Side\": a + b,\n",
    "        \"Right Side\": b + a,\n",
    "        \"Result\": np.array_equal(a + b, b + a)\n",
    "    }\n",
    "    \n",
    "    # Associative: (a + b) + c = a + (b + c)\n",
    "    results[\"Vector Addition\"][\"Associative\"] = {\n",
    "        \"Law\": \"(a + b) + c = a + (b + c)\",\n",
    "        \"Left Side\": (a + b) + c,\n",
    "        \"Right Side\": a + (b + c),\n",
    "        \"Result\": np.array_equal((a + b) + c, a + (b + c))\n",
    "    }\n",
    "\n",
    "    # 2. Vector Subtraction Tests\n",
    "    # Non-commutative: a - b ≠ b - a\n",
    "    results[\"Vector Subtraction\"][\"Non-Commutative\"] = {\n",
    "        \"Law\": \"a - b ≠ b - a\",\n",
    "        \"Left Side\": a - b,\n",
    "        \"Right Side\": b - a,\n",
    "        \"Result\": not np.array_equal(a - b, b - a)\n",
    "    }\n",
    "\n",
    "    # 3. Scalar-Vector Multiplication Tests\n",
    "    # Associative: k(a + b) = ka + kb\n",
    "    results[\"Scalar-Vector Multiplication\"][\"Distributive\"] = {\n",
    "        \"Law\": \"k(a + b) = ka + kb\",\n",
    "        \"Left Side\": k * (a + b),\n",
    "        \"Right Side\": k * a + k * b,\n",
    "        \"Result\": np.array_equal(k * (a + b), k * a + k * b)\n",
    "    }\n",
    "\n",
    "    # 4. Inner Product Tests\n",
    "    # Commutative: a·b = b·a\n",
    "    results[\"Inner Product\"][\"Commutative\"] = {\n",
    "        \"Law\": \"a·b = b·a\",\n",
    "        \"Left Side\": np.dot(a, b),\n",
    "        \"Right Side\": np.dot(b, a),\n",
    "        \"Result\": np.dot(a, b) == np.dot(b, a)\n",
    "    }\n",
    "    \n",
    "    # Distributive: a·(b + c) = a·b + a·c\n",
    "    results[\"Inner Product\"][\"Distributive\"] = {\n",
    "        \"Law\": \"a·(b + c) = a·b + a·c\",\n",
    "        \"Left Side\": np.dot(a, (b + c)),\n",
    "        \"Right Side\": np.dot(a, b) + np.dot(a, c),\n",
    "        \"Result\": np.dot(a, (b + c)) == (np.dot(a, b) + np.dot(a, c))\n",
    "    }\n",
    "\n",
    "    # Print results in table format\n",
    "    print(\"Vector Algebra Laws Verification Table\")\n",
    "    print(\"=\"*50)\n",
    "    \n",
    "    for operation, laws in results.items():\n",
    "        print(f\"\\n{operation}:\")\n",
    "        print(\"-\"*50)\n",
    "        print(f\"{'Law':<30} | {'Result':<10}\")\n",
    "        print(\"-\"*50)\n",
    "        for law_name, details in laws.items():\n",
    "            print(f\"{details['Law']:<30} | {'✓' if details['Result'] else '✗':<10}\")\n",
    "    \n",
    "    return results\n",
    "\n",
    "# Run the tests\n",
    "test_vector_laws()"
   ]
  },
  {
   "cell_type": "markdown",
   "id": "5fbc77a0-7d3e-4cdf-a3e9-a8bfd03d9947",
   "metadata": {},
   "source": [
    "# Vector Subtraction"
   ]
  },
  {
   "cell_type": "code",
   "execution_count": null,
   "id": "a336b8a6-5ff4-4420-8858-b60b9cfd43de",
   "metadata": {},
   "outputs": [],
   "source": []
  },
  {
   "cell_type": "code",
   "execution_count": null,
   "id": "53a40f2f-9cfd-4144-be6a-7e68d984da4c",
   "metadata": {},
   "outputs": [],
   "source": []
  },
  {
   "cell_type": "code",
   "execution_count": null,
   "id": "ba1e8600-9c65-4a69-8338-cf98abc18f6b",
   "metadata": {},
   "outputs": [],
   "source": []
  },
  {
   "cell_type": "code",
   "execution_count": null,
   "id": "acc860c9-0c01-4e6d-a363-5264482740ef",
   "metadata": {},
   "outputs": [],
   "source": []
  },
  {
   "cell_type": "code",
   "execution_count": null,
   "id": "65ee0376-ef5a-474d-8f45-44829450bb88",
   "metadata": {},
   "outputs": [],
   "source": []
  },
  {
   "cell_type": "code",
   "execution_count": null,
   "id": "23966aa7-5f16-492e-adec-f11efa5042e7",
   "metadata": {},
   "outputs": [],
   "source": []
  },
  {
   "cell_type": "code",
   "execution_count": null,
   "id": "9b47df28-a3dd-4000-8996-e4b119050e7c",
   "metadata": {},
   "outputs": [],
   "source": []
  },
  {
   "cell_type": "code",
   "execution_count": null,
   "id": "7a8bde92-dc7d-4c56-8c35-d1d2e6379827",
   "metadata": {},
   "outputs": [],
   "source": []
  },
  {
   "cell_type": "code",
   "execution_count": 185,
   "id": "d9dba1b5-71b8-42c5-a570-2cf3d52b6aac",
   "metadata": {},
   "outputs": [],
   "source": [
    "import pandas as pd"
   ]
  },
  {
   "cell_type": "code",
   "execution_count": 186,
   "id": "18ba20fe-b8e2-45c9-9975-37f40076b1b2",
   "metadata": {},
   "outputs": [],
   "source": [
    "df=pd.read_excel(\"StudentsMarks.xlsx\",header=3)"
   ]
  },
  {
   "cell_type": "code",
   "execution_count": 187,
   "id": "083290fe-d417-4f0f-912d-92288e506fc4",
   "metadata": {},
   "outputs": [
    {
     "data": {
      "text/plain": [
       "Index(['Sl. No.', 'Mid-Semester (50 -> 20.0)', 'End_Semester (100 -> 40.0)',\n",
       "       'Project (100 -> 20.0)', 'Lab Assigment-1 (72 -> 6.66)',\n",
       "       'Lab Assigment-2 (100 -> 6.67)', 'Lab Assigment-3 (100 -> 6.67)'],\n",
       "      dtype='object')"
      ]
     },
     "execution_count": 187,
     "metadata": {},
     "output_type": "execute_result"
    }
   ],
   "source": [
    "df.columns"
   ]
  },
  {
   "cell_type": "code",
   "execution_count": 188,
   "id": "6a93a1e4-3a18-4691-a820-fb952990585b",
   "metadata": {},
   "outputs": [],
   "source": [
    "df.rename(columns={\"Mid-Semester (50 -> 20.0)\":\"MidSem\",\"End_Semester (100 -> 40.0)\":\"EndSem\",\"Project (100 -> 20.0)\":\"Project\",\"Lab Assigment-1 (72 -> 6.66)\":\"Lab1\",\"Lab Assigment-2 (100 -> 6.67)\":\"Lab2\",\"Lab Assigment-3 (100 -> 6.67)\":\"Lab3\"},inplace=True)"
   ]
  },
  {
   "cell_type": "code",
   "execution_count": 189,
   "id": "8e7f1c1e-e896-4b48-bda3-b196daf6ffab",
   "metadata": {},
   "outputs": [
    {
     "data": {
      "text/html": [
       "<div>\n",
       "<style scoped>\n",
       "    .dataframe tbody tr th:only-of-type {\n",
       "        vertical-align: middle;\n",
       "    }\n",
       "\n",
       "    .dataframe tbody tr th {\n",
       "        vertical-align: top;\n",
       "    }\n",
       "\n",
       "    .dataframe thead th {\n",
       "        text-align: right;\n",
       "    }\n",
       "</style>\n",
       "<table border=\"1\" class=\"dataframe\">\n",
       "  <thead>\n",
       "    <tr style=\"text-align: right;\">\n",
       "      <th></th>\n",
       "      <th>Sl. No.</th>\n",
       "      <th>MidSem</th>\n",
       "      <th>EndSem</th>\n",
       "      <th>Project</th>\n",
       "      <th>Lab1</th>\n",
       "      <th>Lab2</th>\n",
       "      <th>Lab3</th>\n",
       "    </tr>\n",
       "  </thead>\n",
       "  <tbody>\n",
       "    <tr>\n",
       "      <th>0</th>\n",
       "      <td>1</td>\n",
       "      <td>12.2</td>\n",
       "      <td>31.6</td>\n",
       "      <td>19.65</td>\n",
       "      <td>6.20</td>\n",
       "      <td>6.40</td>\n",
       "      <td>6.67</td>\n",
       "    </tr>\n",
       "    <tr>\n",
       "      <th>1</th>\n",
       "      <td>2</td>\n",
       "      <td>6.0</td>\n",
       "      <td>21.6</td>\n",
       "      <td>17.45</td>\n",
       "      <td>6.20</td>\n",
       "      <td>6.27</td>\n",
       "      <td>6.34</td>\n",
       "    </tr>\n",
       "    <tr>\n",
       "      <th>2</th>\n",
       "      <td>3</td>\n",
       "      <td>9.4</td>\n",
       "      <td>28.4</td>\n",
       "      <td>17.95</td>\n",
       "      <td>6.66</td>\n",
       "      <td>6.67</td>\n",
       "      <td>6.34</td>\n",
       "    </tr>\n",
       "    <tr>\n",
       "      <th>3</th>\n",
       "      <td>4</td>\n",
       "      <td>14.4</td>\n",
       "      <td>26.4</td>\n",
       "      <td>18.95</td>\n",
       "      <td>6.43</td>\n",
       "      <td>6.67</td>\n",
       "      <td>6.60</td>\n",
       "    </tr>\n",
       "    <tr>\n",
       "      <th>4</th>\n",
       "      <td>5</td>\n",
       "      <td>10.4</td>\n",
       "      <td>19.8</td>\n",
       "      <td>18.00</td>\n",
       "      <td>6.20</td>\n",
       "      <td>6.67</td>\n",
       "      <td>6.67</td>\n",
       "    </tr>\n",
       "    <tr>\n",
       "      <th>...</th>\n",
       "      <td>...</td>\n",
       "      <td>...</td>\n",
       "      <td>...</td>\n",
       "      <td>...</td>\n",
       "      <td>...</td>\n",
       "      <td>...</td>\n",
       "      <td>...</td>\n",
       "    </tr>\n",
       "    <tr>\n",
       "      <th>78</th>\n",
       "      <td>79</td>\n",
       "      <td>8.6</td>\n",
       "      <td>24.4</td>\n",
       "      <td>17.80</td>\n",
       "      <td>3.33</td>\n",
       "      <td>6.47</td>\n",
       "      <td>6.67</td>\n",
       "    </tr>\n",
       "    <tr>\n",
       "      <th>79</th>\n",
       "      <td>80</td>\n",
       "      <td>12.2</td>\n",
       "      <td>21.4</td>\n",
       "      <td>18.78</td>\n",
       "      <td>5.74</td>\n",
       "      <td>6.67</td>\n",
       "      <td>6.67</td>\n",
       "    </tr>\n",
       "    <tr>\n",
       "      <th>80</th>\n",
       "      <td>81</td>\n",
       "      <td>9.2</td>\n",
       "      <td>18.8</td>\n",
       "      <td>17.35</td>\n",
       "      <td>2.87</td>\n",
       "      <td>6.64</td>\n",
       "      <td>6.67</td>\n",
       "    </tr>\n",
       "    <tr>\n",
       "      <th>81</th>\n",
       "      <td>82</td>\n",
       "      <td>6.4</td>\n",
       "      <td>24.4</td>\n",
       "      <td>17.68</td>\n",
       "      <td>2.87</td>\n",
       "      <td>6.54</td>\n",
       "      <td>6.67</td>\n",
       "    </tr>\n",
       "    <tr>\n",
       "      <th>82</th>\n",
       "      <td>83</td>\n",
       "      <td>10.8</td>\n",
       "      <td>25.2</td>\n",
       "      <td>17.68</td>\n",
       "      <td>6.66</td>\n",
       "      <td>6.47</td>\n",
       "      <td>6.67</td>\n",
       "    </tr>\n",
       "  </tbody>\n",
       "</table>\n",
       "<p>83 rows × 7 columns</p>\n",
       "</div>"
      ],
      "text/plain": [
       "    Sl. No.  MidSem  EndSem  Project  Lab1  Lab2  Lab3\n",
       "0         1    12.2    31.6    19.65  6.20  6.40  6.67\n",
       "1         2     6.0    21.6    17.45  6.20  6.27  6.34\n",
       "2         3     9.4    28.4    17.95  6.66  6.67  6.34\n",
       "3         4    14.4    26.4    18.95  6.43  6.67  6.60\n",
       "4         5    10.4    19.8    18.00  6.20  6.67  6.67\n",
       "..      ...     ...     ...      ...   ...   ...   ...\n",
       "78       79     8.6    24.4    17.80  3.33  6.47  6.67\n",
       "79       80    12.2    21.4    18.78  5.74  6.67  6.67\n",
       "80       81     9.2    18.8    17.35  2.87  6.64  6.67\n",
       "81       82     6.4    24.4    17.68  2.87  6.54  6.67\n",
       "82       83    10.8    25.2    17.68  6.66  6.47  6.67\n",
       "\n",
       "[83 rows x 7 columns]"
      ]
     },
     "execution_count": 189,
     "metadata": {},
     "output_type": "execute_result"
    }
   ],
   "source": [
    "df"
   ]
  },
  {
   "cell_type": "code",
   "execution_count": 190,
   "id": "9fa5c5dc-5f90-43fa-b7a0-ae4328ed8f7f",
   "metadata": {},
   "outputs": [],
   "source": [
    "df[\"Total\"]=df[\"MidSem\"]+df[\"EndSem\"]+df[\"Project\"]+df[\"Lab1\"]+df[\"Lab2\"]+df[\"Lab3\"]"
   ]
  },
  {
   "cell_type": "code",
   "execution_count": 191,
   "id": "936ac701-3baf-4e26-b86b-bc6e27eb18bc",
   "metadata": {},
   "outputs": [
    {
     "data": {
      "text/html": [
       "<div>\n",
       "<style scoped>\n",
       "    .dataframe tbody tr th:only-of-type {\n",
       "        vertical-align: middle;\n",
       "    }\n",
       "\n",
       "    .dataframe tbody tr th {\n",
       "        vertical-align: top;\n",
       "    }\n",
       "\n",
       "    .dataframe thead th {\n",
       "        text-align: right;\n",
       "    }\n",
       "</style>\n",
       "<table border=\"1\" class=\"dataframe\">\n",
       "  <thead>\n",
       "    <tr style=\"text-align: right;\">\n",
       "      <th></th>\n",
       "      <th>Sl. No.</th>\n",
       "      <th>MidSem</th>\n",
       "      <th>EndSem</th>\n",
       "      <th>Project</th>\n",
       "      <th>Lab1</th>\n",
       "      <th>Lab2</th>\n",
       "      <th>Lab3</th>\n",
       "      <th>Total</th>\n",
       "    </tr>\n",
       "  </thead>\n",
       "  <tbody>\n",
       "    <tr>\n",
       "      <th>0</th>\n",
       "      <td>1</td>\n",
       "      <td>12.2</td>\n",
       "      <td>31.6</td>\n",
       "      <td>19.65</td>\n",
       "      <td>6.20</td>\n",
       "      <td>6.40</td>\n",
       "      <td>6.67</td>\n",
       "      <td>82.72</td>\n",
       "    </tr>\n",
       "    <tr>\n",
       "      <th>1</th>\n",
       "      <td>2</td>\n",
       "      <td>6.0</td>\n",
       "      <td>21.6</td>\n",
       "      <td>17.45</td>\n",
       "      <td>6.20</td>\n",
       "      <td>6.27</td>\n",
       "      <td>6.34</td>\n",
       "      <td>63.86</td>\n",
       "    </tr>\n",
       "    <tr>\n",
       "      <th>2</th>\n",
       "      <td>3</td>\n",
       "      <td>9.4</td>\n",
       "      <td>28.4</td>\n",
       "      <td>17.95</td>\n",
       "      <td>6.66</td>\n",
       "      <td>6.67</td>\n",
       "      <td>6.34</td>\n",
       "      <td>75.42</td>\n",
       "    </tr>\n",
       "    <tr>\n",
       "      <th>3</th>\n",
       "      <td>4</td>\n",
       "      <td>14.4</td>\n",
       "      <td>26.4</td>\n",
       "      <td>18.95</td>\n",
       "      <td>6.43</td>\n",
       "      <td>6.67</td>\n",
       "      <td>6.60</td>\n",
       "      <td>79.45</td>\n",
       "    </tr>\n",
       "    <tr>\n",
       "      <th>4</th>\n",
       "      <td>5</td>\n",
       "      <td>10.4</td>\n",
       "      <td>19.8</td>\n",
       "      <td>18.00</td>\n",
       "      <td>6.20</td>\n",
       "      <td>6.67</td>\n",
       "      <td>6.67</td>\n",
       "      <td>67.74</td>\n",
       "    </tr>\n",
       "    <tr>\n",
       "      <th>...</th>\n",
       "      <td>...</td>\n",
       "      <td>...</td>\n",
       "      <td>...</td>\n",
       "      <td>...</td>\n",
       "      <td>...</td>\n",
       "      <td>...</td>\n",
       "      <td>...</td>\n",
       "      <td>...</td>\n",
       "    </tr>\n",
       "    <tr>\n",
       "      <th>78</th>\n",
       "      <td>79</td>\n",
       "      <td>8.6</td>\n",
       "      <td>24.4</td>\n",
       "      <td>17.80</td>\n",
       "      <td>3.33</td>\n",
       "      <td>6.47</td>\n",
       "      <td>6.67</td>\n",
       "      <td>67.27</td>\n",
       "    </tr>\n",
       "    <tr>\n",
       "      <th>79</th>\n",
       "      <td>80</td>\n",
       "      <td>12.2</td>\n",
       "      <td>21.4</td>\n",
       "      <td>18.78</td>\n",
       "      <td>5.74</td>\n",
       "      <td>6.67</td>\n",
       "      <td>6.67</td>\n",
       "      <td>71.46</td>\n",
       "    </tr>\n",
       "    <tr>\n",
       "      <th>80</th>\n",
       "      <td>81</td>\n",
       "      <td>9.2</td>\n",
       "      <td>18.8</td>\n",
       "      <td>17.35</td>\n",
       "      <td>2.87</td>\n",
       "      <td>6.64</td>\n",
       "      <td>6.67</td>\n",
       "      <td>61.53</td>\n",
       "    </tr>\n",
       "    <tr>\n",
       "      <th>81</th>\n",
       "      <td>82</td>\n",
       "      <td>6.4</td>\n",
       "      <td>24.4</td>\n",
       "      <td>17.68</td>\n",
       "      <td>2.87</td>\n",
       "      <td>6.54</td>\n",
       "      <td>6.67</td>\n",
       "      <td>64.56</td>\n",
       "    </tr>\n",
       "    <tr>\n",
       "      <th>82</th>\n",
       "      <td>83</td>\n",
       "      <td>10.8</td>\n",
       "      <td>25.2</td>\n",
       "      <td>17.68</td>\n",
       "      <td>6.66</td>\n",
       "      <td>6.47</td>\n",
       "      <td>6.67</td>\n",
       "      <td>73.48</td>\n",
       "    </tr>\n",
       "  </tbody>\n",
       "</table>\n",
       "<p>83 rows × 8 columns</p>\n",
       "</div>"
      ],
      "text/plain": [
       "    Sl. No.  MidSem  EndSem  Project  Lab1  Lab2  Lab3  Total\n",
       "0         1    12.2    31.6    19.65  6.20  6.40  6.67  82.72\n",
       "1         2     6.0    21.6    17.45  6.20  6.27  6.34  63.86\n",
       "2         3     9.4    28.4    17.95  6.66  6.67  6.34  75.42\n",
       "3         4    14.4    26.4    18.95  6.43  6.67  6.60  79.45\n",
       "4         5    10.4    19.8    18.00  6.20  6.67  6.67  67.74\n",
       "..      ...     ...     ...      ...   ...   ...   ...    ...\n",
       "78       79     8.6    24.4    17.80  3.33  6.47  6.67  67.27\n",
       "79       80    12.2    21.4    18.78  5.74  6.67  6.67  71.46\n",
       "80       81     9.2    18.8    17.35  2.87  6.64  6.67  61.53\n",
       "81       82     6.4    24.4    17.68  2.87  6.54  6.67  64.56\n",
       "82       83    10.8    25.2    17.68  6.66  6.47  6.67  73.48\n",
       "\n",
       "[83 rows x 8 columns]"
      ]
     },
     "execution_count": 191,
     "metadata": {},
     "output_type": "execute_result"
    }
   ],
   "source": [
    "df"
   ]
  },
  {
   "cell_type": "code",
   "execution_count": 192,
   "id": "2e47988f-5962-4486-9f2a-cfe1e3bf400e",
   "metadata": {},
   "outputs": [
    {
     "data": {
      "text/plain": [
       "138.5255366735233"
      ]
     },
     "execution_count": 192,
     "metadata": {},
     "output_type": "execute_result"
    }
   ],
   "source": [
    "df[\"Total\"].var()"
   ]
  },
  {
   "cell_type": "code",
   "execution_count": 193,
   "id": "a87c81a4-2ccc-42f7-9f5c-c1595116fe2b",
   "metadata": {},
   "outputs": [
    {
     "data": {
      "text/plain": [
       "11.769687195228398"
      ]
     },
     "execution_count": 193,
     "metadata": {},
     "output_type": "execute_result"
    }
   ],
   "source": [
    "df[\"Total\"].std()"
   ]
  },
  {
   "cell_type": "code",
   "execution_count": 194,
   "id": "1efb4208-d5e0-4121-9af2-c68645398ecc",
   "metadata": {},
   "outputs": [
    {
     "data": {
      "text/plain": [
       "70.64590361445782"
      ]
     },
     "execution_count": 194,
     "metadata": {},
     "output_type": "execute_result"
    }
   ],
   "source": [
    "float(df[\"Total\"].mean())"
   ]
  },
  {
   "cell_type": "code",
   "execution_count": 195,
   "id": "0ad48aa6-8058-4628-aebe-75f16898a299",
   "metadata": {},
   "outputs": [
    {
     "data": {
      "text/plain": [
       "90.95"
      ]
     },
     "execution_count": 195,
     "metadata": {},
     "output_type": "execute_result"
    }
   ],
   "source": [
    "df[\"Total\"].max()"
   ]
  },
  {
   "cell_type": "code",
   "execution_count": 196,
   "id": "35274d47-81c6-40a9-9147-92e2f39ca280",
   "metadata": {},
   "outputs": [
    {
     "data": {
      "text/plain": [
       "33.85"
      ]
     },
     "execution_count": 196,
     "metadata": {},
     "output_type": "execute_result"
    }
   ],
   "source": [
    "df[\"Total\"].min()"
   ]
  },
  {
   "cell_type": "code",
   "execution_count": 197,
   "id": "715fb9c8-72ed-4030-88ba-edf48c1b8620",
   "metadata": {},
   "outputs": [
    {
     "data": {
      "text/plain": [
       "count    83.000000\n",
       "mean     70.645904\n",
       "std      11.769687\n",
       "min      33.850000\n",
       "25%      64.275000\n",
       "50%      72.020000\n",
       "75%      79.285000\n",
       "max      90.950000\n",
       "Name: Total, dtype: float64"
      ]
     },
     "execution_count": 197,
     "metadata": {},
     "output_type": "execute_result"
    }
   ],
   "source": [
    "df[\"Total\"].describe()"
   ]
  },
  {
   "cell_type": "code",
   "execution_count": 198,
   "id": "2b0d6e33-de50-4b77-a50f-458bc17f9b16",
   "metadata": {},
   "outputs": [],
   "source": [
    "import matplotlib.pyplot as plt"
   ]
  },
  {
   "cell_type": "code",
   "execution_count": 199,
   "id": "85ebefe3-fac2-4463-b137-e64a04f78473",
   "metadata": {},
   "outputs": [
    {
     "name": "stderr",
     "output_type": "stream",
     "text": [
      "/tmp/ipykernel_2321252/1132862309.py:2: FutureWarning: The default of observed=False is deprecated and will be changed to True in a future version of pandas. Pass observed=False to retain current behavior or observed=True to adopt the future default and silence this warning.\n",
      "  data = df.groupby(pd.cut(df['Total'], bins=bins)).Total.count()\n"
     ]
    },
    {
     "data": {
      "text/plain": [
       "<Axes: xlabel='Total'>"
      ]
     },
     "execution_count": 199,
     "metadata": {},
     "output_type": "execute_result"
    },
    {
     "data": {
      "image/png": "[encoded data removed]",
      "text/plain": [
       "<Figure size 640x480 with 1 Axes>"
      ]
     },
     "metadata": {},
     "output_type": "display_data"
    }
   ],
   "source": [
    "bins = [0,10,20,30,40,50,60,70,80,90,100]\n",
    "data = df.groupby(pd.cut(df['Total'], bins=bins)).Total.count()\n",
    "data.plot(kind='bar')"
   ]
  },
  {
   "cell_type": "code",
   "execution_count": 200,
   "id": "69e3a94c-9771-4af2-99cf-649baba5dbc2",
   "metadata": {},
   "outputs": [
    {
     "data": {
      "text/html": [
       "<div>\n",
       "<style scoped>\n",
       "    .dataframe tbody tr th:only-of-type {\n",
       "        vertical-align: middle;\n",
       "    }\n",
       "\n",
       "    .dataframe tbody tr th {\n",
       "        vertical-align: top;\n",
       "    }\n",
       "\n",
       "    .dataframe thead th {\n",
       "        text-align: right;\n",
       "    }\n",
       "</style>\n",
       "<table border=\"1\" class=\"dataframe\">\n",
       "  <thead>\n",
       "    <tr style=\"text-align: right;\">\n",
       "      <th></th>\n",
       "      <th>Sl. No.</th>\n",
       "      <th>MidSem</th>\n",
       "      <th>EndSem</th>\n",
       "      <th>Project</th>\n",
       "      <th>Lab1</th>\n",
       "      <th>Lab2</th>\n",
       "      <th>Lab3</th>\n",
       "      <th>Total</th>\n",
       "    </tr>\n",
       "  </thead>\n",
       "  <tbody>\n",
       "    <tr>\n",
       "      <th>0</th>\n",
       "      <td>1</td>\n",
       "      <td>12.2</td>\n",
       "      <td>31.6</td>\n",
       "      <td>19.65</td>\n",
       "      <td>6.20</td>\n",
       "      <td>6.40</td>\n",
       "      <td>6.67</td>\n",
       "      <td>82.72</td>\n",
       "    </tr>\n",
       "    <tr>\n",
       "      <th>1</th>\n",
       "      <td>2</td>\n",
       "      <td>6.0</td>\n",
       "      <td>21.6</td>\n",
       "      <td>17.45</td>\n",
       "      <td>6.20</td>\n",
       "      <td>6.27</td>\n",
       "      <td>6.34</td>\n",
       "      <td>63.86</td>\n",
       "    </tr>\n",
       "    <tr>\n",
       "      <th>2</th>\n",
       "      <td>3</td>\n",
       "      <td>9.4</td>\n",
       "      <td>28.4</td>\n",
       "      <td>17.95</td>\n",
       "      <td>6.66</td>\n",
       "      <td>6.67</td>\n",
       "      <td>6.34</td>\n",
       "      <td>75.42</td>\n",
       "    </tr>\n",
       "    <tr>\n",
       "      <th>3</th>\n",
       "      <td>4</td>\n",
       "      <td>14.4</td>\n",
       "      <td>26.4</td>\n",
       "      <td>18.95</td>\n",
       "      <td>6.43</td>\n",
       "      <td>6.67</td>\n",
       "      <td>6.60</td>\n",
       "      <td>79.45</td>\n",
       "    </tr>\n",
       "    <tr>\n",
       "      <th>4</th>\n",
       "      <td>5</td>\n",
       "      <td>10.4</td>\n",
       "      <td>19.8</td>\n",
       "      <td>18.00</td>\n",
       "      <td>6.20</td>\n",
       "      <td>6.67</td>\n",
       "      <td>6.67</td>\n",
       "      <td>67.74</td>\n",
       "    </tr>\n",
       "    <tr>\n",
       "      <th>...</th>\n",
       "      <td>...</td>\n",
       "      <td>...</td>\n",
       "      <td>...</td>\n",
       "      <td>...</td>\n",
       "      <td>...</td>\n",
       "      <td>...</td>\n",
       "      <td>...</td>\n",
       "      <td>...</td>\n",
       "    </tr>\n",
       "    <tr>\n",
       "      <th>78</th>\n",
       "      <td>79</td>\n",
       "      <td>8.6</td>\n",
       "      <td>24.4</td>\n",
       "      <td>17.80</td>\n",
       "      <td>3.33</td>\n",
       "      <td>6.47</td>\n",
       "      <td>6.67</td>\n",
       "      <td>67.27</td>\n",
       "    </tr>\n",
       "    <tr>\n",
       "      <th>79</th>\n",
       "      <td>80</td>\n",
       "      <td>12.2</td>\n",
       "      <td>21.4</td>\n",
       "      <td>18.78</td>\n",
       "      <td>5.74</td>\n",
       "      <td>6.67</td>\n",
       "      <td>6.67</td>\n",
       "      <td>71.46</td>\n",
       "    </tr>\n",
       "    <tr>\n",
       "      <th>80</th>\n",
       "      <td>81</td>\n",
       "      <td>9.2</td>\n",
       "      <td>18.8</td>\n",
       "      <td>17.35</td>\n",
       "      <td>2.87</td>\n",
       "      <td>6.64</td>\n",
       "      <td>6.67</td>\n",
       "      <td>61.53</td>\n",
       "    </tr>\n",
       "    <tr>\n",
       "      <th>81</th>\n",
       "      <td>82</td>\n",
       "      <td>6.4</td>\n",
       "      <td>24.4</td>\n",
       "      <td>17.68</td>\n",
       "      <td>2.87</td>\n",
       "      <td>6.54</td>\n",
       "      <td>6.67</td>\n",
       "      <td>64.56</td>\n",
       "    </tr>\n",
       "    <tr>\n",
       "      <th>82</th>\n",
       "      <td>83</td>\n",
       "      <td>10.8</td>\n",
       "      <td>25.2</td>\n",
       "      <td>17.68</td>\n",
       "      <td>6.66</td>\n",
       "      <td>6.47</td>\n",
       "      <td>6.67</td>\n",
       "      <td>73.48</td>\n",
       "    </tr>\n",
       "  </tbody>\n",
       "</table>\n",
       "<p>83 rows × 8 columns</p>\n",
       "</div>"
      ],
      "text/plain": [
       "    Sl. No.  MidSem  EndSem  Project  Lab1  Lab2  Lab3  Total\n",
       "0         1    12.2    31.6    19.65  6.20  6.40  6.67  82.72\n",
       "1         2     6.0    21.6    17.45  6.20  6.27  6.34  63.86\n",
       "2         3     9.4    28.4    17.95  6.66  6.67  6.34  75.42\n",
       "3         4    14.4    26.4    18.95  6.43  6.67  6.60  79.45\n",
       "4         5    10.4    19.8    18.00  6.20  6.67  6.67  67.74\n",
       "..      ...     ...     ...      ...   ...   ...   ...    ...\n",
       "78       79     8.6    24.4    17.80  3.33  6.47  6.67  67.27\n",
       "79       80    12.2    21.4    18.78  5.74  6.67  6.67  71.46\n",
       "80       81     9.2    18.8    17.35  2.87  6.64  6.67  61.53\n",
       "81       82     6.4    24.4    17.68  2.87  6.54  6.67  64.56\n",
       "82       83    10.8    25.2    17.68  6.66  6.47  6.67  73.48\n",
       "\n",
       "[83 rows x 8 columns]"
      ]
     },
     "execution_count": 200,
     "metadata": {},
     "output_type": "execute_result"
    }
   ],
   "source": [
    "df"
   ]
  },
  {
   "cell_type": "code",
   "execution_count": 201,
   "id": "cd50c4b7-a28f-4119-a527-070bd5e2cf00",
   "metadata": {},
   "outputs": [
    {
     "name": "stderr",
     "output_type": "stream",
     "text": [
      "/tmp/ipykernel_2321252/2419661360.py:2: FutureWarning: The default of observed=False is deprecated and will be changed to True in a future version of pandas. Pass observed=False to retain current behavior or observed=True to adopt the future default and silence this warning.\n",
      "  data= df.groupby(pd.cut(df['Total'], bins=bins)).Total.count()\n"
     ]
    },
    {
     "data": {
      "text/plain": [
       "<Axes: xlabel='Total'>"
      ]
     },
     "execution_count": 201,
     "metadata": {},
     "output_type": "execute_result"
    },
    {
     "data": {
      "image/png": "[encoded data removed]",
      "text/plain": [
       "<Figure size 640x480 with 1 Axes>"
      ]
     },
     "metadata": {},
     "output_type": "display_data"
    }
   ],
   "source": [
    "bins = [20,26,36,38,50,63,74,81,100]\n",
    "data= df.groupby(pd.cut(df['Total'], bins=bins)).Total.count()\n",
    "data.plot(kind='bar')"
   ]
  },
  {
   "cell_type": "code",
   "execution_count": 204,
   "id": "0e7875ea-a644-420a-b61c-b965dbbb8cef",
   "metadata": {},
   "outputs": [
    {
     "data": {
      "image/png": "[encoded data removed]",
      "text/plain": [
       "<Figure size 640x480 with 1 Axes>"
      ]
     },
     "metadata": {},
     "output_type": "display_data"
    }
   ],
   "source": [
    "import matplotlib.pyplot as plt\n",
    "import numpy as np\n",
    "import scipy.stats as stats\n",
    "import math\n",
    "\n",
    "mu = df[\"Total\"].mean()\n",
    "variance = df[\"Total\"].var()\n",
    "sigma = math.sqrt(variance)\n",
    "x = np.linspace(mu - 3*sigma, mu + 3*sigma, 100)\n",
    "plt.plot(x, stats.norm.pdf(x, mu, sigma))\n",
    "plt.show()"
   ]
  },
  {
   "cell_type": "code",
   "execution_count": 210,
   "id": "68f0e238-08fd-423c-9ecd-548805d9dc36",
   "metadata": {},
   "outputs": [
    {
     "data": {
      "image/png": "[encoded data removed]",
      "text/plain": [
       "<Figure size 1200x600 with 2 Axes>"
      ]
     },
     "metadata": {},
     "output_type": "display_data"
    }
   ],
   "source": [
    "U1, V1 = np.array([1, 0]), np.array([0, 1])\n",
    "U2, V2 = np.array([1, 2]), np.array([1, 3])\n",
    "\n",
    "\n",
    "def generate_combinations(U, V, scalar_range=(-10, 10), steps=20):\n",
    "    scalars = np.linspace(*scalar_range, steps)\n",
    "    combinations = [a * U + b * V for a in scalars for b in scalars]\n",
    "    return np.array(combinations)\n",
    "\n",
    "\n",
    "span1 = generate_combinations(U1, V1)\n",
    "span2 = generate_combinations(U2, V2)\n",
    "\n",
    "\n",
    "fig, axes = plt.subplots(1, 2, figsize=(12, 6))\n",
    "\n",
    "\n",
    "axes[0].scatter(span1[:, 0], span1[:, 1], alpha=0.6, c='blue', label=\"Span(U, V)\")\n",
    "axes[0].quiver(0, 0, U1[0], U1[1], angles='xy', scale_units='xy', scale=1, color='red', label=\"U\")\n",
    "axes[0].quiver(0, 0, V1[0], V1[1], angles='xy', scale_units='xy', scale=1, color='green', label=\"V\")\n",
    "axes[0].set_title(\"Span of U=[1, 0], V=[0, 1]\")\n",
    "axes[0].set_xlim(-10, 10)\n",
    "axes[0].set_ylim(-10, 10)\n",
    "axes[0].axhline(0, color='black', linewidth=0.5)\n",
    "axes[0].axvline(0, color='black', linewidth=0.5)\n",
    "axes[0].legend()\n",
    "axes[0].grid()\n",
    "\n",
    "\n",
    "axes[1].scatter(span2[:, 0], span2[:, 1], alpha=0.6, c='blue', label=\"Span(U, V)\")\n",
    "axes[1].quiver(0, 0, U2[0], U2[1], angles='xy', scale_units='xy', scale=1, color='red', label=\"U\")\n",
    "axes[1].quiver(0, 0, V2[0], V2[1], angles='xy', scale_units='xy', scale=1, color='green', label=\"V\")\n",
    "axes[1].set_title(\"Span of U=[1, 2], V=[1, 3]\")\n",
    "axes[1].set_xlim(-10, 10)\n",
    "axes[1].set_ylim(-10, 10)\n",
    "axes[1].axhline(0, color='black', linewidth=0.5)\n",
    "axes[1].axvline(0, color='black', linewidth=0.5)\n",
    "axes[1].legend()\n",
    "axes[1].grid()\n",
    "\n",
    "plt.tight_layout()\n",
    "plt.show()\n"
   ]
  },
  {
   "cell_type": "code",
   "execution_count": null,
   "id": "136e1361-1167-4d96-ab5c-cda5561793d2",
   "metadata": {},
   "outputs": [],
   "source": []
  },
  {
   "cell_type": "code",
   "execution_count": null,
   "id": "21a722ea-2507-44c1-acbb-a2e7cd8712dd",
   "metadata": {},
   "outputs": [],
   "source": []
  },
  {
   "cell_type": "code",
   "execution_count": null,
   "id": "2984a582-9a3b-4337-adcb-3bf47d9f9049",
   "metadata": {},
   "outputs": [],
   "source": []
  },
  {
   "cell_type": "code",
   "execution_count": null,
   "id": "c4b8f11a-5291-436f-b591-456ba5f833da",
   "metadata": {},
   "outputs": [],
   "source": []
  },
  {
   "cell_type": "code",
   "execution_count": null,
   "id": "d0982b18-821c-4ac8-acac-a78202880bbc",
   "metadata": {},
   "outputs": [],
   "source": []
  },
  {
   "cell_type": "code",
   "execution_count": 208,
   "id": "2d808cdc-e991-4bf7-9e12-c02a74f99dbc",
   "metadata": {},
   "outputs": [],
   "source": [
    "# Generate a random matrix of size 30*50 and write a Python code to nd the no.of independent\n",
    "#vectors or columns of the matrix. Find the rank of the matrix using Python code. Make your\n",
    "#comment."
   ]
  },
  {
   "cell_type": "code",
   "execution_count": 205,
   "id": "8f3a8a0c-5737-40af-89ad-9c0511f4a0f6",
   "metadata": {},
   "outputs": [
    {
     "data": {
      "text/plain": [
       "array([[94, 43, 33, ..., 77,  1, 31],\n",
       "       [61, 73, 74, ..., 86, 59, 60],\n",
       "       [17, 35,  1, ..., 27,  2, 48],\n",
       "       ...,\n",
       "       [31, 65, 76, ..., 29, 13, 87],\n",
       "       [32, 41, 80, ..., 74, 33, 32],\n",
       "       [58, 40, 31, ..., 97, 88,  1]])"
      ]
     },
     "execution_count": 205,
     "metadata": {},
     "output_type": "execute_result"
    }
   ],
   "source": [
    "matrix=np.random.randint(1, 100, size=(30, 50))\n",
    "matrix"
   ]
  },
  {
   "cell_type": "code",
   "execution_count": 207,
   "id": "b839d446-7620-427d-95bd-6c505a3fddd0",
   "metadata": {},
   "outputs": [
    {
     "data": {
      "text/plain": [
       "30"
      ]
     },
     "execution_count": 207,
     "metadata": {},
     "output_type": "execute_result"
    }
   ],
   "source": [
    "int(np.linalg.matrix_rank(matrix))"
   ]
  },
  {
   "cell_type": "code",
   "execution_count": null,
   "id": "30696fd7-c7ad-4a4a-ad6b-ba41d45a4a64",
   "metadata": {},
   "outputs": [],
   "source": []
  },
  {
   "cell_type": "code",
   "execution_count": null,
   "id": "1433b1d0-62b5-4c7a-ba66-d98472488777",
   "metadata": {},
   "outputs": [],
   "source": []
  },
  {
   "cell_type": "code",
   "execution_count": null,
   "id": "19687b03-8213-49f6-b327-93a4d592f23d",
   "metadata": {},
   "outputs": [],
   "source": []
  },
  {
   "cell_type": "code",
   "execution_count": null,
   "id": "29932170-ec28-4c94-b80a-085687ef9479",
   "metadata": {},
   "outputs": [],
   "source": []
  },
  {
   "cell_type": "code",
   "execution_count": null,
   "id": "7e4557ae-a2f6-4677-9108-044a3b832d37",
   "metadata": {},
   "outputs": [],
   "source": []
  },
  {
   "cell_type": "code",
   "execution_count": null,
   "id": "f5b83e46-873f-4912-a130-5fadd64e2b31",
   "metadata": {},
   "outputs": [],
   "source": []
  },
  {
   "cell_type": "code",
   "execution_count": null,
   "id": "3835d853-8538-4327-a4bf-281e47ea549b",
   "metadata": {},
   "outputs": [],
   "source": []
  },
  {
   "cell_type": "code",
   "execution_count": null,
   "id": "76f66af0-6b0b-4ee3-b272-188fbc731649",
   "metadata": {},
   "outputs": [],
   "source": []
  },
  {
   "cell_type": "code",
   "execution_count": null,
   "id": "a0aae381-af3e-4049-8f6c-f4fe42901432",
   "metadata": {},
   "outputs": [],
   "source": []
  },
  {
   "cell_type": "code",
   "execution_count": null,
   "id": "f6f75841-0306-4fa4-86d3-9e2b144cc8bc",
   "metadata": {},
   "outputs": [],
   "source": []
  },
  {
   "cell_type": "code",
   "execution_count": null,
   "id": "55fd50f6-9485-4980-a735-b7085358e2f4",
   "metadata": {},
   "outputs": [],
   "source": []
  },
  {
   "cell_type": "code",
   "execution_count": null,
   "id": "0e8a98b7-54ac-4eb8-961c-f4e2daade7ca",
   "metadata": {},
   "outputs": [],
   "source": []
  },
  {
   "cell_type": "code",
   "execution_count": null,
   "id": "d9c467ba-38c3-4397-82c7-7ab4493fc331",
   "metadata": {},
   "outputs": [],
   "source": []
  },
  {
   "cell_type": "code",
   "execution_count": null,
   "id": "4e0e2780-57d3-406f-8f7a-f24f4808c603",
   "metadata": {},
   "outputs": [],
   "source": []
  },
  {
   "cell_type": "code",
   "execution_count": null,
   "id": "dc0f084b-4a5d-4ab3-9149-2d4db74f2d21",
   "metadata": {},
   "outputs": [],
   "source": []
  },
  {
   "cell_type": "code",
   "execution_count": null,
   "id": "f008b2bd-1197-4f6c-9028-4f0bee85593d",
   "metadata": {},
   "outputs": [],
   "source": []
  },
  {
   "cell_type": "code",
   "execution_count": null,
   "id": "1e4c3ca2-aba9-45a3-ba70-d4c0ce9b815f",
   "metadata": {},
   "outputs": [],
   "source": []
  },
  {
   "cell_type": "code",
   "execution_count": null,
   "id": "757dde47-7692-479e-9f10-b560c7ddcaa6",
   "metadata": {},
   "outputs": [],
   "source": []
  },
  {
   "cell_type": "code",
   "execution_count": null,
   "id": "8fd421da-ed3a-4166-9e2d-36a540628cb0",
   "metadata": {},
   "outputs": [],
   "source": []
  },
  {
   "cell_type": "code",
   "execution_count": null,
   "id": "c9114942-3bbc-494e-9b67-ed59e58f0f7d",
   "metadata": {},
   "outputs": [],
   "source": []
  },
  {
   "cell_type": "code",
   "execution_count": null,
   "id": "953a7b38-6bea-42fb-a81e-5d230227b7e4",
   "metadata": {},
   "outputs": [],
   "source": []
  },
  {
   "cell_type": "code",
   "execution_count": null,
   "id": "5c71ccce-6338-41c5-8871-94b5c7083a59",
   "metadata": {},
   "outputs": [],
   "source": []
  },
  {
   "cell_type": "code",
   "execution_count": null,
   "id": "8c81fbc6-c884-44c3-b20a-01dc122be9fc",
   "metadata": {},
   "outputs": [],
   "source": []
  },
  {
   "cell_type": "code",
   "execution_count": null,
   "id": "cfb71c8f-b9bf-4ae0-88ba-39369c8354ea",
   "metadata": {},
   "outputs": [],
   "source": []
  },
  {
   "cell_type": "code",
   "execution_count": null,
   "id": "8ce31d3d-5308-4f31-a14b-6a58b1e27eb9",
   "metadata": {},
   "outputs": [],
   "source": []
  },
  {
   "cell_type": "code",
   "execution_count": null,
   "id": "0404fecc-74de-4370-9d21-9441a996c677",
   "metadata": {},
   "outputs": [],
   "source": []
  },
  {
   "cell_type": "code",
   "execution_count": null,
   "id": "1c854b0e-f4ff-4336-b484-bd9c578e6814",
   "metadata": {},
   "outputs": [],
   "source": []
  },
  {
   "cell_type": "code",
   "execution_count": null,
   "id": "d2765dd5-5462-4d49-a79d-ac8d72509cce",
   "metadata": {},
   "outputs": [],
   "source": []
  }
 ],
 "metadata": {
  "kernelspec": {
   "display_name": "Python 3 (ipykernel)",
   "language": "python",
   "name": "python3"
  },
  "language_info": {
   "codemirror_mode": {
    "name": "ipython",
    "version": 3
   },
   "file_extension": ".py",
   "mimetype": "text/x-python",
   "name": "python",
   "nbconvert_exporter": "python",
   "pygments_lexer": "ipython3",
   "version": "3.10.16"
  }
 },
 "nbformat": 4,
 "nbformat_minor": 5
}
